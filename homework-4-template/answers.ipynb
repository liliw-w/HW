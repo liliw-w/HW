{
 "cells": [
  {
   "cell_type": "markdown",
   "metadata": {},
   "source": [
    "# Answers\n",
    "\n",
    "You can edit this Jupyter notebook to include your answers and run any code that generates those answers or produces plots.  You can add additional cells for code or markdown as needed.\n",
    "\n",
    "This homework is primarily about running simulations involving initial value problems (IVPs)"
   ]
  },
  {
   "cell_type": "markdown",
   "metadata": {},
   "source": [
    "## Problem 0 (45 points)\n",
    "\n",
    "In this problem, you'll implement a custom ODE solver for `solve_ivp` based on the Forward Euler method, and implement some basic tests.\n",
    "\n",
    "### Part A (20 points)\n",
    "If you read the [documentation for `solve_ipv`](https://docs.scipy.org/doc/scipy/reference/generated/scipy.integrate.solve_ivp.html), which we used in class, you'll see that you can write your own solver.\n",
    "\n",
    "Write a solver for the forward Euler method, which is not implemented as one of the available solvers (while simple, it typically is not very accurate).  Recall, this is the basic rule:\n",
    "\\begin{equation}\n",
    "y(t + h) = y(t) + h f(t, y)\n",
    "\\end{equation}\n",
    "\n",
    "Your solver should be a class which is derived from [`scipy.integrate.OdeSolver`](https://docs.scipy.org/doc/scipy/reference/generated/scipy.integrate.OdeSolver.html#scipy.integrate.OdeSolver)\n",
    "```python\n",
    "class ForwardEuler(scipy.integrate.OdeSolver):\n",
    "    pass\n",
    "```\n",
    "\n",
    "Your class definition should go in [`euler.py`](euler.py)\n",
    "\n",
    "You should read the documentation for this base class in order to implement `ForwardEuler`.  Here are some hints/notes:\n",
    "* Allow a user to set `h` using a keyword argument.  This can be passed using `solve_ivp(..., method=ForwardEuler, h=0.01)` to set `h=0.01`\n",
    "* Use a default step size `h = (t_bound - t0) / 100`\n",
    "* private methods begin with an underscore \"_\"\n",
    "* the method `_dense_output_impl(self)` should output a `ForwardEulerOutput` (defined in [`euler.py`](euler.py))\n",
    "* direction should be `+1`\n",
    "* You won't use a Jacobian, so `njev` and `nlu` can remain at 0.\n",
    "* You may want to consider using `super(ForwardEuler, self).__init__`\n",
    "* You may want to read the source code for the parent class [here](https://github.com/scipy/scipy/blob/v1.5.3/scipy/integrate/_ivp/base.py#L25-L214)\n",
    "\n",
    "---\n",
    "\n",
    "*put any discussion here*"
   ]
  },
  {
   "cell_type": "code",
   "execution_count": 1,
   "metadata": {},
   "outputs": [],
   "source": [
    "from scipy.integrate import solve_ivp\n",
    "from euler import ForwardEuler"
   ]
  },
  {
   "cell_type": "markdown",
   "metadata": {},
   "source": [
    "### Part B (10 points)\n",
    "\n",
    "Use your `ForwardEuler` solver and `solve_ivp` to solve an IVP $y'(t) = y$ with $y(0) = 1$ on the domain $t\\in [0,5]$, using a step size `h=0.01`.  Make a plot of the solution to this IVP with axes labeled `y` and `x`.\n",
    "\n",
    "Use SymPy to obtain the ground-truth solution to this IVP.  What is the largest error you see on the domain you solved the problem?  Try solving with the default solver in `solve_ivp`.  What is the largest error in this case?\n",
    "\n",
    "---\n",
    "\n",
    "*put your answers here*"
   ]
  },
  {
   "cell_type": "code",
   "execution_count": null,
   "metadata": {},
   "outputs": [],
   "source": []
  },
  {
   "cell_type": "markdown",
   "metadata": {},
   "source": [
    "### Part C (15 points)\n",
    "\n",
    "Implement unit tests that verify that ODE solutions (numerically) obey the ODE.  Try this for $y'(t) = y$, with $y(0) = 1$ on the domain $t\\in [0,5]$.  use a finite difference stencil with step size `k` (`k` should be smaller than the `h` you used to solve the ODE) to compute the derivative at several points.  You should only expect the derivative to be accurate to about `h*y`\n",
    "\n",
    "Implement tests for `solve_ivp` using the default settings as well as using your `ForwardEuler` implementation.\n",
    "\n",
    "Put these tests in [`test.py`](test.py).  Set up your unit tests to run when you push changes to GitHub using GitHub actions.\n",
    "\n",
    "---\n",
    "\n",
    "*put any discussion here*"
   ]
  },
  {
   "cell_type": "code",
   "execution_count": null,
   "metadata": {},
   "outputs": [],
   "source": []
  },
  {
   "cell_type": "markdown",
   "metadata": {},
   "source": [
    "## Problem 1 (20 points)\n",
    "\n",
    "In this problem, you'll solve two simple, but related, ODEs using `solve_ivp`.\n",
    "\n",
    "### Part A (13 points)\n",
    "\n",
    "On the surface of the earth, objects are accelerated by a more-or-less constant gravitational field.  We'll consider an object thrown vertically with initial position $y=y_0$, and initial velocity $y' = v_0$.\n",
    "\n",
    "We'll consider a simplified problem with no wind resistance.  Newton's laws of motion tell us $y''(t) = -g$, where $g = 9.8 m/s^2$.  This is a second order ODE, which we can turn into a system of first order ODEs using the substituion $p = y'$.  Then we have\n",
    "\\begin{equation}\n",
    "\\begin{cases}\n",
    "y'(t) = p(t)\\\\\n",
    "p'(t) = -g\n",
    "\\end{cases}\n",
    "\\end{equation}\n",
    "\n",
    "You can encode this using a vector $v$, where $v[0]$ is the value $y$ above, and $v[1]$ is $p$.\n",
    "\n",
    "Use `solve_ivp` to solve for `y(t)` using `y0 = 0` and `y'(0) = 10` (i.e. you throw a ball straight up in the air at a speed of $10 m/s$).  Run this simulation for $4$ seconds.  make a plot of the trajectory $y$ as a function of $t$ (i.e. $t$ is on the horizontal axis and $y$ is on the vertical axis).  Set up an event to end the simulation when `y` is zero again (when the ball hits the ground).  At what time does the ball hit the ground?\n",
    "\n",
    "Set up an event to find when the ball is at its highest point (`p(t) = 0`).  This should not terminate the simulation.\n",
    "\n",
    "---\n",
    "\n",
    "*put any answers/discussion here*"
   ]
  },
  {
   "cell_type": "code",
   "execution_count": null,
   "metadata": {},
   "outputs": [],
   "source": []
  },
  {
   "cell_type": "markdown",
   "metadata": {},
   "source": [
    "### Part B (7 points)\n",
    "\n",
    "We'll now take into account wind resistance on the ball.  We'll make a bunch of assumptions, and simply assume that the drag can be expressed as a force that accelerates the ball by adding a term `y''(t) = p'(t) = -9.8 -0.02 sgn(p(t)) p(t)**2`, where `sgn(p(t))` can be computed using `np.sign` (the sign of the velocity).\n",
    "\n",
    "Incorporate this term into the system of ODEs, and use `solve_ivp` to plot the trajectory of the ball with the same initial conditions as in part A.  Set up an event to terminate the simulation when the ball hits the ground.  At what time does the ball hit the ground?  Is this before or after the ball hits the ground when there is no wind resistance?\n",
    "\n",
    "Set up an event to find when the ball is at its highest point (`p(t) = 0`).  This should not terminate the simulation.\n",
    "\n",
    "---\n",
    "\n",
    "*put any answers/discussion here*"
   ]
  },
  {
   "cell_type": "code",
   "execution_count": null,
   "metadata": {},
   "outputs": [],
   "source": []
  },
  {
   "cell_type": "markdown",
   "metadata": {},
   "source": [
    "## Problem 2 (25 points)\n",
    "\n",
    "Now that you're warmed up, here are some more simulations.\n",
    "\n",
    "### Part A (15 points)\n",
    "\n",
    "In this problem, we'll simulate a planet and moon moving in a 2-dimensional plane.\n",
    "\n",
    "Newton's law of gravity says that $F_g = Gm_1 m_2 / \\|r\\|^2$.  The direction of the force is in the direction of the vector $r$.  Let $x(t)$ dentote the position of the planet and $y(t)$ denote the position of the moon, and $r(t) = x(t) - y(t)$ Then\n",
    "\\begin{equation}\n",
    "x''(t) = -F_g / m_1 \\times r / \\|r\\|\\\\\n",
    "y''(t) = F_g / m_2 \\times r / \\|r\\|\n",
    "\\end{equation}\n",
    "$x$ and $y$ are 2-vectors, so this is a system of 4-second order ODEs.  We can use the trick from problem 1 to write this as 8 first order ODEs by introducing the vector-valued variables\n",
    "$p(t) = x'(t)$, and $q(t) = y'(t)$.  Here are the terms for $x$:\n",
    "\\begin{equation}\n",
    "p_1'(t) = -F_g / m_1 \\times r_1(t) / \\|r\\|\\\\\n",
    "p_2'(t) = -F_g / m_1 \\times r_2(t) / \\|r\\|\\\\\n",
    "x_1'(t) = p_1(t)\\\\\n",
    "x_2'(t) = p_2(t)\n",
    "\\end{equation}\n",
    "\n",
    "We'll model the Earth and moon.  The [Gravitational constant](https://en.wikipedia.org/wiki/Gravitational_constant) has value `G=6.67 e-11` (we're dropping units, which are all SI).  The mass of the earth is `m1 = 5.972 e24`, and the mass of the moon is `m2=0.07346 e24`.  The distance from the moon to the earth is `r = 384.4 e6`.  This means the orbital speed of the moon around the earth is about `1.022 e3`.\n",
    "\n",
    "Use `solve_ivp` to run a simulation of the moon orbiting the earth for `5 e6` seconds (about 2 months).  Use initial conditions $x(0) = 0, p(0) = 0$ for the earth, and $y(0) = (0, 384.4 \\times 10^6)$ and $q(0) = (1.022 \\times 10^3, 0)$\n",
    "\n",
    "Plot $x_1(t), x_2(t)$ and $y_1(t), y_2(t)$ in the same plane with different colors (include a legend and title).\n",
    "\n",
    "---\n",
    "\n",
    "*Put any answers/discussion here*"
   ]
  },
  {
   "cell_type": "code",
   "execution_count": null,
   "metadata": {},
   "outputs": [],
   "source": []
  },
  {
   "cell_type": "markdown",
   "metadata": {},
   "source": [
    "### Part B (10 points)\n",
    "\n",
    "The [Lorentz system](https://en.wikipedia.org/wiki/Lorenz_system) is a simplified model of atmospheric convection, which is one of the earliest systems investigated which exhibit [chaotic behavior](https://en.wikipedia.org/wiki/Chaos_theory).\n",
    "\n",
    "\\begin{equation}\n",
    "\\begin{cases}\n",
    "dx/dt = \\sigma( y - x)\\\\\n",
    "dy/dt = x( \\rho - z) - y\\\\\n",
    "dz/dt = xy - \\beta z\n",
    "\\end{cases}\n",
    "\\end{equation}\n",
    "\n",
    "$x$ is the rate of convection, and $y$ and $z$ measure horizontal and vertical temperature variation.\n",
    "\n",
    "You can use the parameters Lorentz used: $\\sigma=10, \\beta = 8/3, \\rho = 28$.  \n",
    "Run one simulation starting $x = y = z = 10$.  Run the simulation for $t\\in [0,7]$.\n",
    "\n",
    "Run another simulation starting at $y = z = 10$, and $x = 10.1$.  Run the simulation for $t \\in [0,7]$.\n",
    "\n",
    "Plot both solution trajectories in the $x,y$ plane (i.e. `plt(sol.y[0], sol.y[1],...`) using different colors (include labels, a title, and legend).  This system is chaotic, so the trajectories should start close and then get further apart.\n",
    "\n",
    "---\n",
    "\n",
    "*put any answers/discussion here*"
   ]
  },
  {
   "cell_type": "code",
   "execution_count": null,
   "metadata": {},
   "outputs": [],
   "source": []
  },
  {
   "cell_type": "markdown",
   "metadata": {},
   "source": [
    "## Problem 3 (10 points)\n",
    "\n",
    "Use functionality from `scipy.sparse` to help illustrate your answers to the following questions.\n",
    "\n",
    "In the [class materials on differentiation](https://caam37830.github.io/book/04_functions/differentiation.html), we defined `forward_diff_matrix` and `backward_diff_matrix`.  What vectors characterize the nullspace of each of these matrices (i.e. vectors `x` so that `D @ x = 0`)?\n",
    "\n",
    "Give an interpretation (from calculus) of the vector `y` where `y` solves the linear system `D @ y = x`, where `D` is a finite-difference matrix.  What is the implication of the nullspace of `D` on solving this linear system?\n",
    "\n",
    "Create a finite difference operator for the Laplacian $\\Delta = \\partial_x^2 + \\partial_y^2$ where second-order differences are based on the stencil `[1, -2, 1]`.  What is the nullspace of this matrix?\n",
    "\n",
    "---\n",
    "\n",
    "*Your answer here.  You can create some code cells as well*"
   ]
  },
  {
   "cell_type": "code",
   "execution_count": null,
   "metadata": {},
   "outputs": [],
   "source": []
  },
  {
   "cell_type": "markdown",
   "metadata": {},
   "source": [
    "## Feedback\n",
    "\n",
    "If you would like share how long it took you to complete this assignment, it will help adjust the difficulty for future assignments.  You're welcome to share additional feedback as well."
   ]
  },
  {
   "cell_type": "code",
   "execution_count": null,
   "metadata": {},
   "outputs": [],
   "source": []
  }
 ],
 "metadata": {
  "kernelspec": {
   "display_name": "Python (pycourse)",
   "language": "python",
   "name": "pycourse"
  },
  "language_info": {
   "codemirror_mode": {
    "name": "ipython",
    "version": 3
   },
   "file_extension": ".py",
   "mimetype": "text/x-python",
   "name": "python",
   "nbconvert_exporter": "python",
   "pygments_lexer": "ipython3",
   "version": "3.8.3"
  }
 },
 "nbformat": 4,
 "nbformat_minor": 4
}
